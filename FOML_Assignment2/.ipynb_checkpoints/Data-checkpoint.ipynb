{
 "cells": [
  {
   "cell_type": "code",
   "execution_count": 6,
   "id": "2a81b587-8e4b-4add-9c79-76ff6bca9a12",
   "metadata": {},
   "outputs": [],
   "source": [
    "# This code is used to generate 25000 samples from original training data and consider this data set as the new training data\n",
    "\n",
    "import numpy as np\n",
    "from scipy.io import loadmat, savemat\n",
    "from sklearn.utils import shuffle\n",
    "\n",
    "np.random.seed(20)\n",
    "train_data = loadmat('train_32x32.mat')\n",
    "\n",
    "tr_images = np.array(train_data['X'])\n",
    "tr_labels = train_data['y']"
   ]
  },
  {
   "cell_type": "code",
   "execution_count": 7,
   "id": "a9779052-a64d-46e7-b9a3-7eb59cf9bff0",
   "metadata": {},
   "outputs": [],
   "source": [
    "# The label '10' is changed to '0'\n",
    "\n",
    "tr_labels[tr_labels == 10] = 0"
   ]
  },
  {
   "cell_type": "code",
   "execution_count": 8,
   "id": "354892dd-17c1-47b6-b204-b8a9a2018426",
   "metadata": {},
   "outputs": [
    {
     "name": "stdout",
     "output_type": "stream",
     "text": [
      "(73257, 32, 32, 3)\n"
     ]
    }
   ],
   "source": [
    "tr_images = np.moveaxis(tr_images, -1,0)\n",
    "print(tr_images.shape)"
   ]
  },
  {
   "cell_type": "code",
   "execution_count": 9,
   "id": "7f0fda6b-2144-45ef-80f0-6dca52239023",
   "metadata": {},
   "outputs": [],
   "source": [
    "# Create a subset\n",
    "\n",
    "subset_images = []\n",
    "subset_labels = []\n",
    "\n",
    "for i in range(10):\n",
    "    ind_list = np.where(tr_labels == i)[0]\n",
    "    if len(ind_list)>0:\n",
    "        ind = np.random.choice(ind_list, 2500, replace = False)\n",
    "        subset_images.append(tr_images[ind])\n",
    "        subset_labels.extend([i]*2500)"
   ]
  },
  {
   "cell_type": "code",
   "execution_count": 10,
   "id": "ecdf883e-459c-4f4d-aed6-3a4385c7a1ae",
   "metadata": {},
   "outputs": [],
   "source": [
    "# Convert the subsets into numpy arrays and shuffle them\n",
    "\n",
    "subset_images = np.concatenate(subset_images, axis=0)\n",
    "subset_labels = np.array(subset_labels)\n",
    "\n",
    "subset_images, subset_labels = shuffle(subset_images, subset_labels, random_state=40)\n",
    "\n",
    "subset_images = np.moveaxis(subset_images, 0, -1)"
   ]
  },
  {
   "cell_type": "code",
   "execution_count": 13,
   "id": "a16206e9-dba6-4597-9a8a-3fa783d03c6f",
   "metadata": {},
   "outputs": [],
   "source": [
    "# Save to .mat file\n",
    "subset_data = {'X': subset_images, 'y': subset_labels.reshape(-1, 1)}\n",
    "savemat('train_data.mat', subset_data)"
   ]
  }
 ],
 "metadata": {
  "kernelspec": {
   "display_name": "Python 3 (ipykernel)",
   "language": "python",
   "name": "python3"
  },
  "language_info": {
   "codemirror_mode": {
    "name": "ipython",
    "version": 3
   },
   "file_extension": ".py",
   "mimetype": "text/x-python",
   "name": "python",
   "nbconvert_exporter": "python",
   "pygments_lexer": "ipython3",
   "version": "3.10.12"
  }
 },
 "nbformat": 4,
 "nbformat_minor": 5
}
